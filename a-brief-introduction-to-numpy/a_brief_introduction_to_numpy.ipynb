{
 "cells": [
  {
   "cell_type": "markdown",
   "id": "341f0091-4a12-4b25-8118-0e1565cf8bc0",
   "metadata": {},
   "source": [
    "# A Brief Introduction To `NumPy`\n",
    "In this tutorial we will learn some of the basics of `NumPy`. This is by no means comprehesnive, but nevertheless lets begin! __NOTE:__ Unlike other tutorials I will need to better refine this tutorial with feedback so if you are viewing an early version of this tutorial I apologize for not having the best flow!"
   ]
  },
  {
   "cell_type": "code",
   "execution_count": 1,
   "id": "209f0132-2d08-409e-bf55-29c011dba47b",
   "metadata": {},
   "outputs": [],
   "source": [
    "# Import the necessary packages.\n",
    "import numpy as np"
   ]
  },
  {
   "cell_type": "markdown",
   "id": "ceccc354-916d-431f-83d5-037e203cea18",
   "metadata": {},
   "source": [
    "## Creating Arrays\n",
    "An array is very similar to a list, where all the elements have the same data type as well as containing extra information about how to locate and intepret the elements within the array. Let's first see how we can create an array and check its data type."
   ]
  },
  {
   "cell_type": "code",
   "execution_count": 2,
   "id": "2e5ca453-1d58-4b00-b7a8-e625063ce7c0",
   "metadata": {},
   "outputs": [
    {
     "name": "stdout",
     "output_type": "stream",
     "text": [
      "array a:  [1 2 3]\n",
      "a.dtype:  int16\n",
      "array b:  [1. 2. 3.]\n",
      "b.dtype:  float64\n"
     ]
    }
   ],
   "source": [
    "# Create and check the data type of array a.\n",
    "a = np.array([1, 2, 3],  dtype=np.int16)\n",
    "print('array a: ', a)\n",
    "print('a.dtype: ', a.dtype)\n",
    "# Create array b from a list and check the data type of array b.\n",
    "temp_list = [1, 2, 3]\n",
    "b = np.array(temp_list,  dtype=np.float64)\n",
    "print('array b: ', b)\n",
    "print('b.dtype: ', b.dtype)"
   ]
  },
  {
   "cell_type": "markdown",
   "id": "a6ae68bc-bdaa-4cf8-a915-0fb7581706a4",
   "metadata": {},
   "source": [
    "Sometimes we want to create arrays sequentially without having to type out all the elements, luckily we can do this with `np.arange(start, stop, step)` which intializes an array of evenly spaced numbers between the `start` (inclusive) and `stop` (exclusive) given the `step` value."
   ]
  },
  {
   "cell_type": "code",
   "execution_count": 3,
   "id": "c7713101-2eeb-4fef-a0ca-028ea19dc576",
   "metadata": {},
   "outputs": [
    {
     "name": "stdout",
     "output_type": "stream",
     "text": [
      "array a:  [0 1 2 3 4 5 6 7 8 9]\n",
      "array b:  [ 0  2  4  6  8 10]\n"
     ]
    }
   ],
   "source": [
    "# Create an array that counts from 0 to 9 by 1s.\n",
    "a = np.arange(0, 10)\n",
    "print('array a: ', a)\n",
    "# Create an array that counts from 0 to 10 by 2s.\n",
    "b = np.arange(0, 12, 2)\n",
    "print('array b: ', b)"
   ]
  },
  {
   "cell_type": "markdown",
   "id": "21595f62-f847-4887-9fae-1b7802772558",
   "metadata": {},
   "source": [
    "Another way I like to create arrays—especially for plotting—is by using `np.linspace(start, stop, num)` which intializes an array of evenly spaced numbers between the `start` (inclusive) and `stop` (inclusive) given a specificed number of elements (`num`) to include."
   ]
  },
  {
   "cell_type": "code",
   "execution_count": 4,
   "id": "de4492b1-0e10-445a-a7df-bb7342976841",
   "metadata": {},
   "outputs": [
    {
     "name": "stdout",
     "output_type": "stream",
     "text": [
      "array a:  [ 10.  20.  30.  40.  50.  60.  70.  80.  90. 100.]\n",
      "array b:  [ 5.   2.5  0.  -2.5 -5. ]\n"
     ]
    }
   ],
   "source": [
    "# Create an array of 10 elements starting at 10 and ending at 100.\n",
    "a = np.linspace(10, 100, 10)\n",
    "print('array a: ', a)\n",
    "# Create an array of 5 elements starting at 5 and ending at -5.\n",
    "b = np.linspace(5, -5, 5)\n",
    "print('array b: ', b)"
   ]
  },
  {
   "cell_type": "markdown",
   "id": "8fe2d520-dbf7-4b59-9c7d-9409bccece2d",
   "metadata": {},
   "source": [
    "For some things I just want an array of 0s or 1s or some arbitrary number so we can use `np.zeros(shape)`, `np.ones(shape)`, and `np.full(shape, value)` where the `shape` corresponds to the number of elements in each dimension."
   ]
  },
  {
   "cell_type": "code",
   "execution_count": 5,
   "id": "d21ae083-a53b-4095-82aa-862ffe80b565",
   "metadata": {},
   "outputs": [
    {
     "name": "stdout",
     "output_type": "stream",
     "text": [
      "array a:  [0. 0. 0. 0. 0. 0. 0. 0. 0. 0.]\n",
      "array b:  [1. 1. 1. 1. 1. 1. 1. 1. 1. 1.]\n",
      "array c:  [42 42 42 42 42 42 42 42 42 42]\n"
     ]
    }
   ],
   "source": [
    "# Create an array consisting of 10 0s.\n",
    "a = np.zeros(10)\n",
    "print('array a: ', a)\n",
    "# Create an array consisting of 10 1s.\n",
    "b = np.ones(10)\n",
    "print('array b: ', b)\n",
    "# Create an array consisting of 10 42s.\n",
    "c = np.full(10, 42)\n",
    "print('array c: ', c)"
   ]
  },
  {
   "cell_type": "markdown",
   "id": "da064143-1aa3-4a3c-8e89-3c6437e8df22",
   "metadata": {},
   "source": [
    "Othertimes it is useful to generate arrays from a distribution such as `np.random.uniform(min, max, shape)` which intializes an array from a uniform distribution with random elements drawn between `min` (inclusive) and `max` (exclusive) and `np.random.normal(mean, std, shape)` which intializes an array from a normal distribution—__NOTE:__ `NumPy` has a lot of distributions to choose from but I chose these two for brevity."
   ]
  },
  {
   "cell_type": "code",
   "execution_count": 6,
   "id": "56094a88-9f43-497a-ac1d-1f3db67559ac",
   "metadata": {},
   "outputs": [
    {
     "name": "stdout",
     "output_type": "stream",
     "text": [
      "array a:  [10.86187486  5.34201818 10.02009789  8.86190369  1.5067776 ]\n",
      "array b:  [ 1.57335205  0.14376154  0.14543128  0.37956839 -0.50912384]\n"
     ]
    }
   ],
   "source": [
    "# Create an array consisting of 5 random values chosen from U[1, 11).\n",
    "a = np.random.uniform(1, 11, 5)\n",
    "print('array a: ', a)\n",
    "# Create an array consisting of 5 random values chosen from a standard normal distrubution.\n",
    "b = np.random.normal(0, 1, 5)\n",
    "print('array b: ', b)"
   ]
  },
  {
   "cell_type": "markdown",
   "id": "e85aa091-84d1-43fb-ab01-34172218bff2",
   "metadata": {},
   "source": [
    "So far we have just been working with 1D arrays, but technically an array can be any number of arbitrary dimensions—for this tutorial we will only work with 1D (sometimes referred to as vectors) or 2D (sometimes referred to as matrices) arrays. To check the number of dimensions we use `.ndim` which returns an intger value for the number of dimensions, to check how many elements are in each dimension we use `.shape` which returns a tuple of the total number of elements per dimensions, and to check the total number of elements we use `.size` which returns the product of the number of elements within each of the array’s dimensions."
   ]
  },
  {
   "cell_type": "code",
   "execution_count": 7,
   "id": "0797be06-bd56-4ced-8457-d352862601b0",
   "metadata": {},
   "outputs": [
    {
     "name": "stdout",
     "output_type": "stream",
     "text": [
      "array a:  [0. 0. 0. 0. 0. 0. 0. 0. 0. 0.]\n",
      "a.ndim:  1\n",
      "a.shape:  (10,)\n",
      "a.size:  10\n",
      "array b: \n",
      " [[0. 0.]\n",
      " [0. 0.]\n",
      " [0. 0.]]\n",
      "b.ndim:  2\n",
      "b.shape:  (3, 2)\n",
      "b.size:  6\n"
     ]
    }
   ],
   "source": [
    "# Create a 1D array of consisting of 10 zeros.\n",
    "a = np.zeros(10)\n",
    "print('array a: ', a)\n",
    "# Print the number of dimensions for the 1D array.\n",
    "print('a.ndim: ', a.ndim)\n",
    "# Print the shape of the 1D array.\n",
    "print('a.shape: ', a.shape)\n",
    "# Print the size of the 1D array.\n",
    "print('a.size: ', a.size)\n",
    "# Create a 1D array of consisting of 3 rows and 2 columns of 0s.\n",
    "b = np.zeros((3, 2))\n",
    "print('array b: '+'\\n', b)\n",
    "# Print the number of dimensions for the 2D array.\n",
    "print('b.ndim: ', b.ndim)\n",
    "# Print the shape of the 2D array.\n",
    "print('b.shape: ', b.shape)\n",
    "# Print the size of the 2D array.\n",
    "print('b.size: ', b.size)"
   ]
  },
  {
   "cell_type": "markdown",
   "id": "9e6f4e1f-62d0-4245-bb27-6a53ad0d8c30",
   "metadata": {},
   "source": [
    "## Creating Arrays From Existing Arrays\n",
    "A lot of the times it will be easier to manipulate exisiting arrays than to create new arrays from scratch. One of my favorite methods is to create an empty array using `np.empty(shape)` and then to fill it with existing arrays. Additionally, we can switch the indicies of every element in a 2D array—i.e., $[i, j] \\rightarrow [j, i]$—using `np.transpose(array)` or its alias `.T`."
   ]
  },
  {
   "cell_type": "code",
   "execution_count": 8,
   "id": "e239f254-35eb-49cb-8490-1d143e9c17cc",
   "metadata": {},
   "outputs": [
    {
     "name": "stdout",
     "output_type": "stream",
     "text": [
      "array a (empty): \n",
      " [[ 2.60605835e-31 -5.21211670e-31  1.30302917e-31]\n",
      " [-5.21211670e-31  1.13363538e-30 -3.51817877e-31]\n",
      " [ 1.30302917e-31 -3.51817877e-31  2.01969522e-31]]\n",
      "array a (filled): \n",
      " [[1. 1. 1.]\n",
      " [0. 0. 0.]\n",
      " [1. 1. 1.]]\n",
      "array b (a.T): \n",
      " [[1. 0. 1.]\n",
      " [1. 0. 1.]\n",
      " [1. 0. 1.]]\n"
     ]
    }
   ],
   "source": [
    "# Create an array consisting of 3 0s.\n",
    "zeros = np.zeros(3)\n",
    "# Create an array consisting of 3 1s.\n",
    "ones = np.ones(3)\n",
    "# Create an empty array with three rows and three columns.\n",
    "a = np.empty((3, 3))\n",
    "print('array a (empty): '+'\\n', a)\n",
    "# Fill the empty array such that the first and last rows are ones and the second row is zeros.\n",
    "a[0, :] = ones\n",
    "a[1, :] = zeros\n",
    "a[2, :] = ones\n",
    "print('array a (filled): '+'\\n', a)\n",
    "# Transpose the elements in array a.\n",
    "b = a.T\n",
    "print('array b (a.T): '+'\\n', b)"
   ]
  },
  {
   "cell_type": "markdown",
   "id": "03506b65-53e2-4a8c-b389-8fcc28665eab",
   "metadata": {},
   "source": [
    "Similarly, one could also join exsiting arrays along a given axis using `np.concatenate(tuple, axis)` where `tuple` corresponds to a tuple of exisiting arrays and `axis` refers to the given axis which the exisiting arrays will be joined."
   ]
  },
  {
   "cell_type": "code",
   "execution_count": 9,
   "id": "2fc3de03-d3a5-4660-8039-e66cf304644e",
   "metadata": {},
   "outputs": [
    {
     "name": "stdout",
     "output_type": "stream",
     "text": [
      "array a: \n",
      " [[0. 0. 0.]\n",
      " [1. 1. 1.]]\n",
      "array b: \n",
      " [[0. 1.]\n",
      " [0. 1.]\n",
      " [0. 1.]]\n"
     ]
    }
   ],
   "source": [
    "# Create an array consisting of 1 row and 3 columns of 0s.\n",
    "zeros = np.zeros((1,3))\n",
    "# Create an array consisting of 1 row and 3 columns of 1s.\n",
    "ones = np.ones((1,3))\n",
    "# Concatenate the two arrays as rows.\n",
    "a = np.concatenate((zeros, ones), axis=0)\n",
    "print('array a: '+'\\n', a)\n",
    "# Concatenate the two arrays as columns.\n",
    "b = np.concatenate((zeros.T, ones.T), axis=1)\n",
    "print('array b: '+'\\n', b)"
   ]
  },
  {
   "cell_type": "markdown",
   "id": "fb8ad6f3-1f9a-4ba1-a968-b14fe83fa4a4",
   "metadata": {},
   "source": [
    "Another thing I do a lot is append elements to an existing array using `np.append(array, value)` where `array` corresponds to the array that will have the `value` appeneded to the end of it."
   ]
  },
  {
   "cell_type": "code",
   "execution_count": 10,
   "id": "21c298f1-cf51-4790-96ea-7a0bb721e585",
   "metadata": {},
   "outputs": [
    {
     "name": "stdout",
     "output_type": "stream",
     "text": [
      "array a (empty):  []\n",
      "array a appended 1 time(s):  [0.]\n",
      "array a appended 2 time(s):  [0. 1.]\n",
      "array a appended 3 time(s):  [0. 1. 2.]\n",
      "array a appended 4 time(s):  [0. 1. 2. 3.]\n",
      "array a appended 5 time(s):  [0. 1. 2. 3. 4.]\n",
      "array a appended 6 time(s):  [0. 1. 2. 3. 4. 5.]\n",
      "array a appended 7 time(s):  [0. 1. 2. 3. 4. 5. 6.]\n",
      "array a appended 8 time(s):  [0. 1. 2. 3. 4. 5. 6. 7.]\n",
      "array a appended 9 time(s):  [0. 1. 2. 3. 4. 5. 6. 7. 8.]\n",
      "array a appended 10 time(s):  [0. 1. 2. 3. 4. 5. 6. 7. 8. 9.]\n",
      "array a appended 11 time(s):  [ 0.  1.  2.  3.  4.  5.  6.  7.  8.  9. 10.]\n",
      "array a (filled):  [ 0.  1.  2.  3.  4.  5.  6.  7.  8.  9. 10.]\n"
     ]
    }
   ],
   "source": [
    "# Intialize an empty array.\n",
    "a = np.array([])\n",
    "print('array a (empty): ', a)\n",
    "# For every value in range(11) ie 0-10...\n",
    "for val in range(11):\n",
    "    # Append the current value to array a.\n",
    "    a = np.append(a, val)\n",
    "    print('array a appended {0} time(s): '.format(int(val)+1), a)\n",
    "print('array a (filled): ', a)"
   ]
  },
  {
   "cell_type": "markdown",
   "id": "382a5355-052f-4d01-afee-cbeb898af918",
   "metadata": {},
   "source": [
    "Often one may need to create arrays with a different shape, but with the same elements from an existing array. Luckily, `np.reshape(array, new_shape)` where `array` corresponds to the exisitng array that will be reshaped to have the specified `new_shape` dimensions. Additionally, one can turn any N-dimenisonal array to a 1D array using `.flatten`."
   ]
  },
  {
   "cell_type": "code",
   "execution_count": 11,
   "id": "43e7a815-ae63-4d22-852a-b55c598ac6e3",
   "metadata": {},
   "outputs": [
    {
     "name": "stdout",
     "output_type": "stream",
     "text": [
      "array a:  [ 0  1  2  3  4  5  6  7  8  9 10 11]\n",
      "array b: \n",
      " [[ 0  1]\n",
      " [ 2  3]\n",
      " [ 4  5]\n",
      " [ 6  7]\n",
      " [ 8  9]\n",
      " [10 11]]\n",
      "array b (flattened):  [ 0  1  2  3  4  5  6  7  8  9 10 11]\n",
      "array c: \n",
      " [[ 0  1  2  3]\n",
      " [ 4  5  6  7]\n",
      " [ 8  9 10 11]]\n",
      "array c (flattened):  [ 0  1  2  3  4  5  6  7  8  9 10 11]\n"
     ]
    }
   ],
   "source": [
    "# Intialize an array with values from 0-11.\n",
    "a = np.arange(12)\n",
    "print('array a: ', a)\n",
    "# Reshape the array to have 6 rows and 2 columns.\n",
    "b = a.reshape(6, 2)\n",
    "print('array b: '+'\\n', b)\n",
    "# Flatten the reshaped array.\n",
    "print('array b (flattened): ', b.flatten())\n",
    "# Reshape the array to have 3 rows and 4 columns.\n",
    "c = a.reshape(3, 4)\n",
    "print('array c: '+'\\n', c)\n",
    "# Flatten the reshaped array.\n",
    "print('array c (flattened): ', c.flatten())"
   ]
  },
  {
   "cell_type": "markdown",
   "id": "544f99ce-2185-4d15-b639-ec6af18064fe",
   "metadata": {},
   "source": [
    "Sometimes it is helpful to stack arrays either horizontally/column-wise with `np.hstack(tuple)` or vertically/row-wise with `np.vstack(tuple)` where `tuple` corresponds to a tuple of exisiting arrays."
   ]
  },
  {
   "cell_type": "code",
   "execution_count": 12,
   "id": "d5fddacb-b509-4fbf-8434-f5d733373f06",
   "metadata": {},
   "outputs": [
    {
     "name": "stdout",
     "output_type": "stream",
     "text": [
      "array a: \n",
      " [[0. 0. 0. 1. 1. 1. 2. 2. 2.]\n",
      " [0. 0. 0. 1. 1. 1. 2. 2. 2.]]\n",
      "array b: \n",
      " [[0. 0. 0.]\n",
      " [0. 0. 0.]\n",
      " [1. 1. 1.]\n",
      " [1. 1. 1.]\n",
      " [2. 2. 2.]\n",
      " [2. 2. 2.]]\n"
     ]
    }
   ],
   "source": [
    "# Create an array consisting of 2 rows and 3 columns of 0s.\n",
    "zeros = np.zeros((2,3))\n",
    "# Create an array consisting of 2 rows and 3 columns of 1s.\n",
    "ones = np.ones((2,3))\n",
    "# Create an array consisting of 2 rows and 3 columns of 2s.\n",
    "twos = np.full((2,3), 2)\n",
    "# Stack the two arrays column-wise\n",
    "a = np.hstack((zeros, ones, twos))\n",
    "print('array a: '+'\\n', a)\n",
    "# Stack the two arrays row-wise.\n",
    "b = np.vstack((zeros, ones, twos))\n",
    "print('array b: '+'\\n', b)"
   ]
  },
  {
   "cell_type": "markdown",
   "id": "61fdb927-01c4-4312-89c3-0a397a6d1188",
   "metadata": {},
   "source": [
    "Following the same logic as stacking we can also split exisiting arrays into sub-arrays of equal size either horizontally/column-wise with `np.hsplit(array, sections)` or vertically/row-wise with `np.vsplit(array, sections)` where `array` corresponds to the current array that will be split into N number of `sections`."
   ]
  },
  {
   "cell_type": "code",
   "execution_count": 13,
   "id": "4c301032-34f1-4b37-8941-8420ce0064c2",
   "metadata": {},
   "outputs": [
    {
     "name": "stdout",
     "output_type": "stream",
     "text": [
      "array a: \n",
      " [[ 0  1  2  3]\n",
      " [ 4  5  6  7]\n",
      " [ 8  9 10 11]]\n",
      "array b: \n",
      " [array([[0],\n",
      "       [4],\n",
      "       [8]]), array([[1],\n",
      "       [5],\n",
      "       [9]]), array([[ 2],\n",
      "       [ 6],\n",
      "       [10]]), array([[ 3],\n",
      "       [ 7],\n",
      "       [11]])]\n",
      "array c: \n",
      " [array([[0, 1, 2, 3]]), array([[4, 5, 6, 7]]), array([[ 8,  9, 10, 11]])]\n"
     ]
    }
   ],
   "source": [
    "# Intialize an array with values from 0-11 in 3 rows and 4 columns.\n",
    "a = np.arange(12).reshape(3, 4)\n",
    "print('array a: '+'\\n', a)\n",
    "# Split the array column-wise into 4 sub-arrays.\n",
    "b = np.hsplit(a, 4)\n",
    "print('array b: '+'\\n', b)\n",
    "# Split the array row-wise into 3 sub-arrays.\n",
    "c = np.vsplit(a, 3)\n",
    "print('array c: '+'\\n', c)"
   ]
  },
  {
   "cell_type": "markdown",
   "id": "94b47820-e230-4362-906b-06b48c0a7e8d",
   "metadata": {},
   "source": [
    "## Indexing & Slicing\n",
    "Often we will want to find where an element is or extract a subset of a given array. Indexing and slicing a 1D array has the general form of `1d_array[start : stop]` where start is inclusive and stop is exclusive."
   ]
  },
  {
   "cell_type": "code",
   "execution_count": 14,
   "id": "e793079d-20ea-4d90-b5b9-fd67f4ae256e",
   "metadata": {},
   "outputs": [
    {
     "name": "stdout",
     "output_type": "stream",
     "text": [
      "array a:  [0 1 2 3 4 5 6 7 8 9]\n",
      "a[0]:  0\n",
      "a[9]:  9\n",
      "a[-1]:  9\n",
      "a[1:4]:  [1 2 3]\n",
      "a[4:]:  [4 5 6 7 8 9]\n"
     ]
    }
   ],
   "source": [
    "# Create a 1D array that counts from 0 to 9 by 1s.\n",
    "a = np.arange(0, 10)\n",
    "print('array a: ', a)\n",
    "# Print the first element in the 1D array.\n",
    "print('a[0]: ', a[0])\n",
    "# Print the last element in the 1D array.\n",
    "print('a[9]: ', a[9])\n",
    "print('a[-1]: ', a[-1])\n",
    "# Print the second, third, fourth, but not fifth element in the 1D array.\n",
    "print('a[1:4]: ', a[1:4])\n",
    "# Print the fifth to last element in the 1D array.\n",
    "print('a[4:]: ', a[4:])"
   ]
  },
  {
   "cell_type": "markdown",
   "id": "66f83175-8a24-4fa0-bd31-34b50aaa47ca",
   "metadata": {},
   "source": [
    "Similarly, indexing and slicing a 2D array has the general form of `2d_array[row_start : row_stop, column_start : column_end]` where each start is inclusive and each stop is exclusive."
   ]
  },
  {
   "cell_type": "code",
   "execution_count": 15,
   "id": "c6929dcd-6327-4175-8ba8-3b94bec56a38",
   "metadata": {},
   "outputs": [
    {
     "name": "stdout",
     "output_type": "stream",
     "text": [
      "array a: \n",
      " [[0 1 2 3]\n",
      " [0 1 2 3]]\n",
      "a[0, :]:  [0 1 2 3]\n",
      "a[:, 0]:  [0 0]\n",
      "a[:, 0:2]: \n",
      " [[0 1]\n",
      " [0 1]]\n"
     ]
    }
   ],
   "source": [
    "# Create a 2D array with two rows and three columns.\n",
    "a = np.array([np.arange(0, 4), np.arange(0, 4)])\n",
    "print('array a: '+'\\n', a)\n",
    "# Print the entire first row of the 2D array.\n",
    "print('a[0, :]: ', a[0, :])\n",
    "# Print the entire first column of the 2D array.\n",
    "print('a[:, 0]: ', a[:, 0])\n",
    "# Print the first two elements of each row of the 2D array.\n",
    "print('a[:, 0:2]: '+'\\n', a[:, 0:2])"
   ]
  },
  {
   "cell_type": "markdown",
   "id": "a4edf1ec-48c6-410b-a631-81c9ae4968b7",
   "metadata": {},
   "source": [
    "We can also use logicals to slice an array using a mask—an array of the same shape as the original with boolean values for elements—where the slice would only contain the indicies with `True` values in the mask array."
   ]
  },
  {
   "cell_type": "code",
   "execution_count": 16,
   "id": "b6343828-2b80-437e-9d4e-805ad66fd65a",
   "metadata": {},
   "outputs": [
    {
     "name": "stdout",
     "output_type": "stream",
     "text": [
      "array a:  [-5 -4 -3 -2 -1  0  1  2  3  4  5]\n",
      "array a (+ mask):  [False False False False False False  True  True  True  True  True]\n",
      "array a (+ values):  [1 2 3 4 5]\n",
      "array a (- mask):  [ True  True  True  True  True False False False False False False]\n",
      "array a (+ values):  [-5 -4 -3 -2 -1]\n"
     ]
    }
   ],
   "source": [
    "# Create a 1D array with values between -5 and 5.\n",
    "a = np.arange(-5, 6)\n",
    "print('array a: ', a)\n",
    "# Assess what elements are positive\n",
    "positive = a > 0\n",
    "print('array a (+ mask): ', positive)\n",
    "# Print only the positive elements.\n",
    "print('array a (+ values): ', a[positive])\n",
    "# Assess what elements are negative.\n",
    "negative = a < 0\n",
    "print('array a (- mask): ', negative)\n",
    "# Print only the negative elements.\n",
    "print('array a (+ values): ', a[negative])"
   ]
  },
  {
   "cell_type": "markdown",
   "id": "3d43f3e6-aae7-4a1a-8bcf-adb8adffbcd8",
   "metadata": {},
   "source": [
    "Similarly, we can also use masks to slice a 2D array."
   ]
  },
  {
   "cell_type": "code",
   "execution_count": 17,
   "id": "9696fe93-4b7f-4895-a83e-f0bb55cc5073",
   "metadata": {},
   "outputs": [
    {
     "name": "stdout",
     "output_type": "stream",
     "text": [
      "array a: \n",
      " [[1. 1. 1.]\n",
      " [0. 0. 0.]\n",
      " [1. 1. 1.]]\n",
      "array a (0s mask): \n",
      " [[False False False]\n",
      " [ True  True  True]\n",
      " [False False False]]\n",
      "array a (1s mask): \n",
      " [[ True  True  True]\n",
      " [False False False]\n",
      " [ True  True  True]]\n",
      "array a (0 values):  [0. 0. 0.]\n",
      "array a (1 values):  [1. 1. 1. 1. 1. 1.]\n"
     ]
    }
   ],
   "source": [
    "# Create a 2D array where the first and last rows are 1s and the middle row is 0s.\n",
    "a = np.array([\n",
    "    np.ones(3),\n",
    "    np.zeros(3),\n",
    "    np.ones(3),\n",
    "])\n",
    "print('array a: '+'\\n', a)\n",
    "# Create a zeros mask.\n",
    "zeros = a == 0\n",
    "print('array a (0s mask): '+'\\n', zeros)\n",
    "# Create a ones mask.\n",
    "ones = a == 1\n",
    "print('array a (1s mask): '+'\\n', ones)\n",
    "# Print only 0 elements.\n",
    "print('array a (0 values): ', a[zeros])\n",
    "# Print only 1 elements.\n",
    "print('array a (1 values): ', a[ones])"
   ]
  },
  {
   "cell_type": "markdown",
   "id": "029706dd-0475-41d8-a54e-8a5f55a93615",
   "metadata": {},
   "source": [
    "Lastly, one can also use the idea of broadcasting—duplicating a single value or operation over a sub-array—to modify values either by slicing or masking."
   ]
  },
  {
   "cell_type": "code",
   "execution_count": 18,
   "id": "f2672589-660e-45cd-8c66-b349e2e271bf",
   "metadata": {},
   "outputs": [
    {
     "name": "stdout",
     "output_type": "stream",
     "text": [
      "array a:  [1 2 3 4 5 6 7 8 9]\n",
      "array b: \n",
      " [[1 2 3]\n",
      " [4 5 6]\n",
      " [7 8 9]]\n",
      "array a (a[0:3] = 0):  [0 0 0 4 5 6 7 8 9]\n",
      "array b (b[0, :] = 0): \n",
      " [[0 0 0]\n",
      " [4 5 6]\n",
      " [7 8 9]]\n",
      "array a (a > 6 mask):  [False False False False False False  True  True  True]\n",
      "array b (b > 6 mask): \n",
      " [[False False False]\n",
      " [False False False]\n",
      " [ True  True  True]]\n",
      "array a (a[mask_1d] = 1):  [0 0 0 4 5 6 1 1 1]\n",
      "array b (b[mask_2d] = 1): \n",
      " [[0 0 0]\n",
      " [4 5 6]\n",
      " [1 1 1]]\n"
     ]
    }
   ],
   "source": [
    "# Create a 1D array with values from 1 to 9.\n",
    "a = np.arange(1, 10)\n",
    "print('array a: ', a)\n",
    "# Reshape the 1D array into a 2D array with 3 rows and 3 columns.\n",
    "b = a.reshape(3, 3)\n",
    "print('array b: '+'\\n', b)\n",
    "# Modify the first 3 elements to be 0.\n",
    "a[0:3] = 0\n",
    "print('array a (a[0:3] = 0): ', a)\n",
    "# Modify the first row to have all 0s.\n",
    "b[0, :] = 0\n",
    "print('array b (b[0, :] = 0): '+'\\n', b)\n",
    "# Create a mask for all elements 7 or greater.\n",
    "mask_1d = a > 6\n",
    "print('array a (a > 6 mask): ', mask_1d)\n",
    "# Create a mask for the last row.\n",
    "mask_2d = b > 6\n",
    "print('array b (b > 6 mask): '+'\\n', mask_2d)\n",
    "# Mask all elements 7 or greater to be 1s.\n",
    "a[mask_1d] = 1\n",
    "print('array a (a[mask_1d] = 1): ', a)\n",
    "# Mask the last row to be all 1s.\n",
    "b[mask_2d] = 1\n",
    "print('array b (b[mask_2d] = 1): '+'\\n', b)"
   ]
  },
  {
   "cell_type": "markdown",
   "id": "356dce0f-4b18-41a1-b06c-b88d21e979b7",
   "metadata": {},
   "source": [
    "## Array Operations\n",
    "Now the fun part begins! For 1D arrays there are two types of operations: 1) vector operations which requires the two arrays to have the same size and 2) brodcasting a single operation to an entire array. __NOTE:__ There are A LOT of possibilities with array opperations so I will just show some of the most commons one I use."
   ]
  },
  {
   "cell_type": "code",
   "execution_count": 19,
   "id": "23e29f31-6083-44fb-bfb6-244cc451e295",
   "metadata": {},
   "outputs": [
    {
     "name": "stdout",
     "output_type": "stream",
     "text": [
      "array a:  [2 2 2]\n",
      "array b:  [3 3 3]\n",
      "array c:  [5 5 5]\n",
      "array d:  [-1 -1 -1]\n",
      "array e:  [6 6 6]\n",
      "array f:  [0.66666667 0.66666667 0.66666667]\n",
      "np.sum(c):  15\n",
      "np.abs(d):  [1 1 1]\n",
      "np.mean(e):  6.0\n",
      "np.round(f):  [1. 1. 1.]\n"
     ]
    }
   ],
   "source": [
    "# Create an array consisting of 3 2s.\n",
    "a = np.full(3, 2)\n",
    "print('array a: ', a)\n",
    "# Create an array consisting of 3 3s.\n",
    "b = np.full(3, 3)\n",
    "print('array b: ', b)\n",
    "# Add the two arrays.\n",
    "c = a + b\n",
    "print('array c: ', c)\n",
    "# Subtract the two arrays.\n",
    "d = a - b\n",
    "print('array d: ', d)\n",
    "# Multiply the two arrays.\n",
    "e = a * b\n",
    "print('array e: ', e)\n",
    "# Divide the two arrays.\n",
    "f = a / b\n",
    "print('array f: ', f)\n",
    "# Compute the sum of array c.\n",
    "print('np.sum(c): ', np.sum(c))\n",
    "# Take the absolute power of array d.\n",
    "print('np.abs(d): ', np.abs(d))\n",
    "# Compute the mean of array e.\n",
    "print('np.mean(e): ', np.mean(e))\n",
    "# Round all elements of array f.\n",
    "print('np.round(f): ', np.round(f))"
   ]
  },
  {
   "cell_type": "markdown",
   "id": "264062d1-cb87-4d8a-b6dd-5e8152fcb77d",
   "metadata": {},
   "source": [
    "Similarly for 2D arrays there are two types of operations: 1) matrix operations and 2) brodcasting a single operation to a specific axis or to an entire array."
   ]
  },
  {
   "cell_type": "code",
   "execution_count": 20,
   "id": "c620b7c5-34f3-413c-aa8d-a580adced6a2",
   "metadata": {},
   "outputs": [
    {
     "name": "stdout",
     "output_type": "stream",
     "text": [
      "array a: \n",
      " [[1 2]\n",
      " [3 4]]\n",
      "array b: \n",
      " [[1 3]\n",
      " [2 4]]\n",
      "array c: \n",
      " [[2 5]\n",
      " [5 8]]\n",
      "array d: \n",
      " [[ 0 -1]\n",
      " [ 1  0]]\n",
      "array e: \n",
      " [[ 1  6]\n",
      " [ 6 16]]\n",
      "array f: \n",
      " [[1.         0.66666667]\n",
      " [1.5        1.        ]]\n",
      "array g: \n",
      " [[ 5 11]\n",
      " [11 25]]\n",
      "c.max(axis=0):  [5 8]\n",
      "d.min(axis=1):  [-1  0]\n",
      "np.unique(e):  [ 1  6 16]\n",
      "np.log(f): \n",
      " [[ 0.         -0.40546511]\n",
      " [ 0.40546511  0.        ]]\n",
      "np.sqrt(g): \n",
      " [[2.23606798 3.31662479]\n",
      " [3.31662479 5.        ]]\n"
     ]
    }
   ],
   "source": [
    "# Create a 2D array with 2 rows and 2 columns.\n",
    "a = np.arange(1, 5).reshape(2, 2)\n",
    "print('array a: '+'\\n', a)\n",
    "# Transpose array a.\n",
    "b = a.T\n",
    "print('array b: '+'\\n', b)\n",
    "# Add the two arrays.\n",
    "c = a + b\n",
    "print('array c: '+'\\n', c)\n",
    "# Subtract the two arrays.\n",
    "d = a - b\n",
    "print('array d: '+'\\n', d)\n",
    "# Multiply the two arrays.\n",
    "e = a * b\n",
    "print('array e: '+'\\n', e)\n",
    "# Divide the two arrays.\n",
    "f = a / b\n",
    "print('array f: '+'\\n', f)\n",
    "# Find the dot product of two arrays.\n",
    "g = np.dot(a, b)\n",
    "print('array g: '+'\\n', g)\n",
    "# Find the maxmim value of each row for array c.\n",
    "print('c.max(axis=0): ', c.max(axis=0))\n",
    "# Find the minimum value of each column for array d.\n",
    "print('d.min(axis=1): ', d.min(axis=1))\n",
    "# Find all unqiue value in array e.\n",
    "print('np.unique(e): ', np.unique(e))\n",
    "# Compute the natural logarithim for array f.\n",
    "print('np.log(f): '+'\\n', np.log(f))\n",
    "# Find the square root for array g.\n",
    "print('np.sqrt(g): '+'\\n', np.sqrt(g))"
   ]
  },
  {
   "cell_type": "markdown",
   "id": "2f536bf1-8713-4cd5-872a-b66a88002ade",
   "metadata": {},
   "source": [
    "## Plotting Arrays\n",
    "Ok so I need to make a whole tutorial dedicated to plotting, but here are some quick and dirty examples of how I quickly visualize some data from `NumPy` but first I need to import the necessary package!"
   ]
  },
  {
   "cell_type": "code",
   "execution_count": 21,
   "id": "de9c473b-2efa-4566-9610-3959e36ee2b1",
   "metadata": {},
   "outputs": [],
   "source": [
    "# Import pyplot for plotting.\n",
    "import matplotlib.pyplot as plt"
   ]
  },
  {
   "cell_type": "markdown",
   "id": "e93ca39c-a574-4331-aeca-79f71bc1cbaf",
   "metadata": {},
   "source": [
    "Plot a linear, quadratic, and cubic function."
   ]
  },
  {
   "cell_type": "code",
   "execution_count": 22,
   "id": "9e69add9-faa6-442f-a996-6b6753fa9ee6",
   "metadata": {},
   "outputs": [
    {
     "data": {
      "image/png": "[encoded data removed]",
      "text/plain": [
       "<Figure size 432x288 with 1 Axes>"
      ]
     },
     "metadata": {
      "needs_background": "light"
     },
     "output_type": "display_data"
    }
   ],
   "source": [
    "# Evenly distribute data between 0 and 1.\n",
    "x = np.arange(0., 1., 0.1)\n",
    "# Plot linear, quadratic, and cubic plots.\n",
    "plt.plot(x, x, 'v-', x, x**2, 'x-', x, x**3, 'o-')\n",
    "# Visualize!\n",
    "plt.show()"
   ]
  },
  {
   "cell_type": "markdown",
   "id": "ad71e79a-98c8-4d5b-919f-4453a2cc027a",
   "metadata": {},
   "source": [
    "Plot a uniform distribution."
   ]
  },
  {
   "cell_type": "code",
   "execution_count": 23,
   "id": "48ced1a4-253b-4fc9-b329-491fdccc5d4e",
   "metadata": {},
   "outputs": [
    {
     "data": {
      "image/png": "[encoded data removed]",
      "text/plain": [
       "<Figure size 432x288 with 1 Axes>"
      ]
     },
     "metadata": {
      "needs_background": "light"
     },
     "output_type": "display_data"
    }
   ],
   "source": [
    "# Randomly generate 1000 data from U[0, 1).\n",
    "x = np.random.uniform(0, 1, 1000)\n",
    "# Plot array x as a histogram.\n",
    "plt.hist(x, bins='auto', histtype='stepfilled')\n",
    "# Visualize!\n",
    "plt.show()"
   ]
  },
  {
   "cell_type": "markdown",
   "id": "459adccd-5e87-4f55-8161-640d7483db39",
   "metadata": {},
   "source": [
    "Plot a standard normal distribution."
   ]
  },
  {
   "cell_type": "code",
   "execution_count": 26,
   "id": "bf62c700-7256-452a-b76b-6fc82a58aa22",
   "metadata": {},
   "outputs": [
    {
     "data": {
      "image/png": "[encoded data removed]",
      "text/plain": [
       "<Figure size 432x288 with 1 Axes>"
      ]
     },
     "metadata": {
      "needs_background": "light"
     },
     "output_type": "display_data"
    }
   ],
   "source": [
    "# Randomly generate 1000 data from N(0, 1).\n",
    "x = np.random.normal(0, 1, 1000)\n",
    "# Randomly generate 1000 data from N(5, 1).\n",
    "y = np.random.normal(5, 1, 1000)\n",
    "# Plot array x as a histogram.\n",
    "plt.hist(x, bins='auto', histtype='stepfilled')\n",
    "plt.hist(y, bins='auto', histtype='stepfilled')\n",
    "# Visualize!\n",
    "plt.show()"
   ]
  },
  {
   "cell_type": "markdown",
   "id": "40260ffd-0203-458f-8a84-5361ed86533f",
   "metadata": {},
   "source": [
    "Plot the results from flipping a coin 1000 times."
   ]
  },
  {
   "cell_type": "code",
   "execution_count": 25,
   "id": "f5f8cf28-fb01-428b-bf22-31537afd9a96",
   "metadata": {},
   "outputs": [
    {
     "data": {
      "image/png": "[encoded data removed]",
      "text/plain": [
       "<Figure size 432x288 with 1 Axes>"
      ]
     },
     "metadata": {},
     "output_type": "display_data"
    }
   ],
   "source": [
    "# Randomly generate 1000 data from B(1, 0.5).\n",
    "x = np.random.binomial(1, 0.5, 1000)\n",
    "y = np.array([np.count_nonzero(x==0), np.count_nonzero(x)])\n",
    "# Plot array y as a pie chart.\n",
    "plt.pie(y, labels=['heads', 'tails'], autopct='%1.1f%%')\n",
    "# Visualize!\n",
    "plt.show()"
   ]
  }
 ],
 "metadata": {
  "kernelspec": {
   "display_name": "Python 3 (ipykernel)",
   "language": "python",
   "name": "python3"
  },
  "language_info": {
   "codemirror_mode": {
    "name": "ipython",
    "version": 3
   },
   "file_extension": ".py",
   "mimetype": "text/x-python",
   "name": "python",
   "nbconvert_exporter": "python",
   "pygments_lexer": "ipython3",
   "version": "3.8.12"
  }
 },
 "nbformat": 4,
 "nbformat_minor": 5
}
